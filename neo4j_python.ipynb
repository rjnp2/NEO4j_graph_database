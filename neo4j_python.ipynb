{
 "cells": [
  {
   "cell_type": "markdown",
   "id": "4a1e3f04-61d8-425d-8c94-ae40a9297de6",
   "metadata": {},
   "source": [
    "# Neo4j\n",
    "Neo4j is one of the popular Graph Databases and Cypher Query Language (CQL).\n",
    "\n",
    "A graph is a pictorial representation of a set of objects where some pairs of objects are connected by links. It is composed of two elements - nodes (vertices) and relationships (edges).\n",
    "\n",
    "Graph database is a database used to model the data in the form of graph. In here, the nodes of a graph depict the entities while the relationships depict the association of these nodes.\n",
    "\n",
    "It is Flexible data model , High availability, Cypher query language, No joins"
   ]
  },
  {
   "cell_type": "code",
   "execution_count": 1,
   "id": "bfd47e4e-d315-4dae-bb67-18f339d79029",
   "metadata": {},
   "outputs": [],
   "source": [
    "from neo4j import GraphDatabase\n",
    "import pandas as pd"
   ]
  },
  {
   "cell_type": "code",
   "execution_count": 2,
   "id": "beb4e2c8-1bdb-4615-a143-f1da75f2702c",
   "metadata": {},
   "outputs": [],
   "source": [
    "uri = \"bolt://localhost:7687\"\n",
    "user = \"neo4j\"\n",
    "password = \"1234\"\n",
    "\n",
    "driver = GraphDatabase.driver(uri, auth=(user, password))\n",
    "session = driver.session()"
   ]
  },
  {
   "cell_type": "markdown",
   "id": "d765756b-0701-451a-bcae-981d387860c5",
   "metadata": {},
   "source": [
    "## Creating a nodes.\n",
    "\n",
    "You can create a node in Neo4j using the CREATE clause. \n",
    "\n",
    "Create a single node\\\n",
    "Create multiple nodes\\\n",
    "Create a node with a label\\\n",
    "Create a node with multiple labels\\\n",
    "Create a node with properties\\\n",
    "Returning the created node"
   ]
  },
  {
   "cell_type": "code",
   "execution_count": 3,
   "id": "75dbb2bf-8622-459b-83a8-bb624672271f",
   "metadata": {
    "tags": []
   },
   "outputs": [
    {
     "data": {
      "text/plain": [
       "<neo4j.work.result.Result at 0x2dbf4e47b50>"
      ]
     },
     "execution_count": 3,
     "metadata": {},
     "output_type": "execute_result"
    }
   ],
   "source": [
    "q1 = 'create constraint on (p:Person) assert p.name is unique;'\n",
    "session.run(q1)\n",
    "q1 = 'CREATE (ee:Person { name: \"Emil\", from: \"Sweden\"})'\n",
    "session.run(q1)"
   ]
  },
  {
   "cell_type": "markdown",
   "id": "4dbb4582-28e3-4558-b840-b0fba6899894",
   "metadata": {},
   "source": [
    "# Print data"
   ]
  },
  {
   "cell_type": "code",
   "execution_count": 4,
   "id": "abfaf5d1-e30a-48b8-9bd2-cf6e7060fc46",
   "metadata": {},
   "outputs": [
    {
     "name": "stdout",
     "output_type": "stream",
     "text": [
      "[{'ee': {'name': 'Emil', 'from': 'Sweden'}}]\n"
     ]
    }
   ],
   "source": [
    "q1 = 'MATCH (ee:Person) RETURN ee;'\n",
    "\n",
    "values = [record.data() for record in session.run(q1)]\n",
    "print(values)"
   ]
  },
  {
   "cell_type": "code",
   "execution_count": 5,
   "id": "6dfe7586-ced7-47ca-8585-1827a887a14e",
   "metadata": {},
   "outputs": [
    {
     "name": "stdout",
     "output_type": "stream",
     "text": [
      "   name    from\n",
      "0  Emil  Sweden\n"
     ]
    }
   ],
   "source": [
    "for value in values:\n",
    "    value = value.values()\n",
    "    print(pd.DataFrame(value))"
   ]
  },
  {
   "cell_type": "markdown",
   "id": "3259ee9a-0c4e-4059-baa1-db818c64ee51",
   "metadata": {},
   "source": [
    "## Creating Relationships\n",
    "We can create a relationship using the CREATE clause. We will specify relationship within the square braces “[ ]” depending on the direction of the relationship it is placed between hyphen “ - ” and arrow “ → ” as shown in the following syntax."
   ]
  },
  {
   "cell_type": "code",
   "execution_count": 6,
   "id": "a4a70062-e768-4b93-874a-62c018331343",
   "metadata": {},
   "outputs": [
    {
     "name": "stdout",
     "output_type": "stream",
     "text": [
      "[{'ee.name': 'Emil', 'type(r)': 'KNOWS', 'js.name': 'Johan'}]\n"
     ]
    }
   ],
   "source": [
    "q1 = 'MATCH (ee:Person) WHERE ee.name = \"Emil\" \\\n",
    "    CREATE (js:Person { name: \"Johan\", from: \"Sweden\", learn: \"surfing\" }) \\\n",
    "    create (ee) -[r:KNOWS{since:1999}] -> (js)'\n",
    "session.run(q1)\n",
    "\n",
    "q1 = 'MATCH (ee:Person{name : \"Emil\"})- [r]-(js:Person{name:\"Johan\"}) RETURN ee.name, type(r),js.name;'\n",
    "\n",
    "values = [record.data() for record in session.run(q1)]\n",
    "print(values)"
   ]
  },
  {
   "cell_type": "markdown",
   "id": "68eddc77-ed6e-49c4-8668-4a6870344640",
   "metadata": {},
   "source": [
    "## CREATE more"
   ]
  },
  {
   "cell_type": "code",
   "execution_count": 7,
   "id": "cce9d457-f2b7-4b24-8cb0-b3abbff148ca",
   "metadata": {},
   "outputs": [
    {
     "data": {
      "text/plain": [
       "<neo4j.work.result.Result at 0x2dbf9b41490>"
      ]
     },
     "execution_count": 7,
     "metadata": {},
     "output_type": "execute_result"
    }
   ],
   "source": [
    "q1 = 'MATCH (ee:Person) WHERE ee.name = \"Emil\" \\\n",
    "MATCH (js:Person) where js.name = \"Johan\" \\\n",
    "CREATE (ir:Person { name: \"Ian\", from: \"England\", title: \"author\" }), \\\n",
    "(rvb:Person { name: \"Rik\", from: \"Belgium\", pet: \"Orval\" }), \\\n",
    "(ally:Person { name: \"Allison\", from: \"California\", hobby: \"surfing\" }), \\\n",
    "(ee)-[:KNOWS]->(ir), \\\n",
    "(js)-[:KNOWS]->(ir),(js)-[:KNOWS]->(rvb), \\\n",
    "(ir)-[:KNOWS]->(js),(ir)-[:KNOWS]->(ally), \\\n",
    "(rvb)-[:KNOWS]->(ally)'\n",
    "\n",
    "session.run(q1)"
   ]
  },
  {
   "cell_type": "code",
   "execution_count": 8,
   "id": "786a88f8-c6f0-4b87-8624-0b6aa0c8d5f8",
   "metadata": {},
   "outputs": [
    {
     "name": "stdout",
     "output_type": "stream",
     "text": [
      "{'n': {'name': 'Johan', 'from': 'Sweden', 'learn': 'surfing'}}\n",
      "{'n': {'name': 'Ian', 'from': 'England', 'title': 'author'}}\n",
      "{'n': {'name': 'Rik', 'from': 'Belgium', 'pet': 'Orval'}}\n",
      "{'n': {'name': 'Allison', 'from': 'California', 'hobby': 'surfing'}}\n",
      "{'n': {'name': 'Emil', 'from': 'Sweden'}}\n"
     ]
    }
   ],
   "source": [
    "q1 =\"  match (n) return n\"\n",
    "values = [record.data() for record in session.run(q1)]\n",
    "\n",
    "for value in values:\n",
    "    print(value)"
   ]
  },
  {
   "cell_type": "code",
   "execution_count": 9,
   "id": "da0b80c8-1028-4ded-b990-edcb5407aeda",
   "metadata": {},
   "outputs": [
    {
     "data": {
      "text/html": [
       "<div>\n",
       "<style scoped>\n",
       "    .dataframe tbody tr th:only-of-type {\n",
       "        vertical-align: middle;\n",
       "    }\n",
       "\n",
       "    .dataframe tbody tr th {\n",
       "        vertical-align: top;\n",
       "    }\n",
       "\n",
       "    .dataframe thead th {\n",
       "        text-align: right;\n",
       "    }\n",
       "</style>\n",
       "<table border=\"1\" class=\"dataframe\">\n",
       "  <thead>\n",
       "    <tr style=\"text-align: right;\">\n",
       "      <th></th>\n",
       "      <th>name</th>\n",
       "      <th>from</th>\n",
       "      <th>learn</th>\n",
       "      <th>title</th>\n",
       "      <th>pet</th>\n",
       "      <th>hobby</th>\n",
       "    </tr>\n",
       "  </thead>\n",
       "  <tbody>\n",
       "    <tr>\n",
       "      <th>0</th>\n",
       "      <td>Johan</td>\n",
       "      <td>Sweden</td>\n",
       "      <td>surfing</td>\n",
       "      <td>NaN</td>\n",
       "      <td>NaN</td>\n",
       "      <td>NaN</td>\n",
       "    </tr>\n",
       "    <tr>\n",
       "      <th>1</th>\n",
       "      <td>Ian</td>\n",
       "      <td>England</td>\n",
       "      <td>NaN</td>\n",
       "      <td>author</td>\n",
       "      <td>NaN</td>\n",
       "      <td>NaN</td>\n",
       "    </tr>\n",
       "    <tr>\n",
       "      <th>2</th>\n",
       "      <td>Rik</td>\n",
       "      <td>Belgium</td>\n",
       "      <td>NaN</td>\n",
       "      <td>NaN</td>\n",
       "      <td>Orval</td>\n",
       "      <td>NaN</td>\n",
       "    </tr>\n",
       "    <tr>\n",
       "      <th>3</th>\n",
       "      <td>Allison</td>\n",
       "      <td>California</td>\n",
       "      <td>NaN</td>\n",
       "      <td>NaN</td>\n",
       "      <td>NaN</td>\n",
       "      <td>surfing</td>\n",
       "    </tr>\n",
       "    <tr>\n",
       "      <th>4</th>\n",
       "      <td>Emil</td>\n",
       "      <td>Sweden</td>\n",
       "      <td>NaN</td>\n",
       "      <td>NaN</td>\n",
       "      <td>NaN</td>\n",
       "      <td>NaN</td>\n",
       "    </tr>\n",
       "  </tbody>\n",
       "</table>\n",
       "</div>"
      ],
      "text/plain": [
       "      name        from    learn   title    pet    hobby\n",
       "0    Johan      Sweden  surfing     NaN    NaN      NaN\n",
       "1      Ian     England      NaN  author    NaN      NaN\n",
       "2      Rik     Belgium      NaN     NaN  Orval      NaN\n",
       "3  Allison  California      NaN     NaN    NaN  surfing\n",
       "4     Emil      Sweden      NaN     NaN    NaN      NaN"
      ]
     },
     "execution_count": 9,
     "metadata": {},
     "output_type": "execute_result"
    }
   ],
   "source": [
    "d = []\n",
    "for value in values:\n",
    "    value = value.values()\n",
    "    for valu in value:\n",
    "        d.append(valu)\n",
    "df = pd.DataFrame(d)\n",
    "df"
   ]
  },
  {
   "cell_type": "code",
   "execution_count": 10,
   "id": "a9c3491c-911a-4668-8e54-53b6407282c7",
   "metadata": {},
   "outputs": [
    {
     "name": "stdout",
     "output_type": "stream",
     "text": [
      "{'ee.name': 'Johan', 'type(r)': 'KNOWS', 'js.name': 'Ian'}\n",
      "{'ee.name': 'Johan', 'type(r)': 'KNOWS', 'js.name': 'Rik'}\n",
      "{'ee.name': 'Johan', 'type(r)': 'KNOWS', 'js.name': 'Ian'}\n",
      "{'ee.name': 'Johan', 'type(r)': 'KNOWS', 'js.name': 'Emil'}\n",
      "{'ee.name': 'Ian', 'type(r)': 'KNOWS', 'js.name': 'Allison'}\n",
      "{'ee.name': 'Ian', 'type(r)': 'KNOWS', 'js.name': 'Johan'}\n",
      "{'ee.name': 'Ian', 'type(r)': 'KNOWS', 'js.name': 'Johan'}\n",
      "{'ee.name': 'Ian', 'type(r)': 'KNOWS', 'js.name': 'Emil'}\n",
      "{'ee.name': 'Rik', 'type(r)': 'KNOWS', 'js.name': 'Allison'}\n",
      "{'ee.name': 'Rik', 'type(r)': 'KNOWS', 'js.name': 'Johan'}\n",
      "{'ee.name': 'Allison', 'type(r)': 'KNOWS', 'js.name': 'Ian'}\n",
      "{'ee.name': 'Allison', 'type(r)': 'KNOWS', 'js.name': 'Rik'}\n",
      "{'ee.name': 'Emil', 'type(r)': 'KNOWS', 'js.name': 'Ian'}\n",
      "{'ee.name': 'Emil', 'type(r)': 'KNOWS', 'js.name': 'Johan'}\n"
     ]
    }
   ],
   "source": [
    "q1 = 'MATCH (ee:Person)- [r]-(js:Person) RETURN ee.name, type(r),js.name;'\n",
    "\n",
    "values = [record.data() for record in session.run(q1)]\n",
    "\n",
    "for value in values:\n",
    "    print(value)"
   ]
  },
  {
   "cell_type": "markdown",
   "id": "9a3342fd-34ff-432a-83fe-38967d8862e8",
   "metadata": {},
   "source": [
    "## Pattern matching\n",
    "Describe what to find in the graph\n",
    "\n",
    "For instance, a pattern can be used to find Emil's friends:"
   ]
  },
  {
   "cell_type": "code",
   "execution_count": 11,
   "id": "7f8f1d58-845b-44c8-92ca-70ae928da4a0",
   "metadata": {},
   "outputs": [
    {
     "name": "stdout",
     "output_type": "stream",
     "text": [
      "{'ee': {'name': 'Emil', 'from': 'Sweden'}, 'friends': {'name': 'Ian', 'from': 'England', 'title': 'author'}}\n",
      "{'ee': {'name': 'Emil', 'from': 'Sweden'}, 'friends': {'name': 'Johan', 'from': 'Sweden', 'learn': 'surfing'}}\n"
     ]
    }
   ],
   "source": [
    "q1 = 'MATCH (ee:Person)-[:KNOWS]-(friends) \\\n",
    "WHERE ee.name = \"Emil\" RETURN ee, friends'\n",
    "\n",
    "values = [record.data() for record in session.run(q1)]\n",
    "\n",
    "for value in values:\n",
    "    print(value)"
   ]
  },
  {
   "cell_type": "code",
   "execution_count": 12,
   "id": "2405a947-285f-4260-9a9a-eec9278ebebc",
   "metadata": {},
   "outputs": [
    {
     "name": "stdout",
     "output_type": "stream",
     "text": [
      "{'surfer': {'name': 'Allison', 'from': 'California', 'hobby': 'surfing'}}\n"
     ]
    }
   ],
   "source": [
    "q1 = 'MATCH (js:Person)-[:KNOWS]-()-[:KNOWS]-(surfer) \\\n",
    "WHERE js.name = \"Johan\" AND surfer.hobby = \"surfing\" \\\n",
    "RETURN DISTINCT surfer'\n",
    "\n",
    "values = [record.data() for record in session.run(q1)]\n",
    "\n",
    "for value in values:\n",
    "    print(value)"
   ]
  },
  {
   "cell_type": "markdown",
   "id": "223640f0-d4e2-417b-aa56-7aaf525da5a8",
   "metadata": {},
   "source": [
    "## Set Clause\n",
    "Using Set clause, you can add new properties to an existing Node or Relationship, and also add or update existing Properties values."
   ]
  },
  {
   "cell_type": "code",
   "execution_count": 13,
   "id": "8932752e-f831-4e9f-9813-4a2c767b9b02",
   "metadata": {},
   "outputs": [
    {
     "name": "stdout",
     "output_type": "stream",
     "text": [
      "[{'n1': {'name': 'Emil', 'from': 'Sweden', 'age': 18}}]\n"
     ]
    }
   ],
   "source": [
    "q1 = 'MATCH (n1:Person{name: \"Emil\"}) \\\n",
    "SET n1.age = 18 \\\n",
    "RETURN n1'\n",
    "\n",
    "session.run(q1)\n",
    "\n",
    "q1 = 'MATCH (n1:Person) WHERE n1.name = \"Emil\" RETURN n1;'\n",
    "\n",
    "values = [record.data() for record in session.run(q1)]\n",
    "print(values)"
   ]
  },
  {
   "cell_type": "markdown",
   "id": "6798f9b1-b1da-4e62-9655-d153c3ecb245",
   "metadata": {},
   "source": [
    "## Setting Multiple Properties\n",
    "In the same way, you can create multiple properties in a node using the Set clause. To do so, you need to specify these key value pairs with commas."
   ]
  },
  {
   "cell_type": "code",
   "execution_count": 14,
   "id": "fac06ad4-d9a7-4607-8165-886e85ed15ec",
   "metadata": {},
   "outputs": [
    {
     "name": "stdout",
     "output_type": "stream",
     "text": [
      "[{'n1': {'name': 'Emil', 'POB': 'UK', 'from': 'USA', 'age': 18}}]\n"
     ]
    }
   ],
   "source": [
    "q1 = 'MATCH (n1:Person{name: \"Emil\"}) \\\n",
    "SET n1.from = \"USA\", n1.POB= \"UK\" \\\n",
    "RETURN n1'\n",
    "\n",
    "session.run(q1)\n",
    "\n",
    "q1 = 'MATCH (n1:Person) WHERE n1.name = \"Emil\" RETURN n1;'\n",
    "\n",
    "values = [record.data() for record in session.run(q1)]\n",
    "print(values)"
   ]
  },
  {
   "cell_type": "markdown",
   "id": "58985582-f76c-466d-9c12-ddad43d26327",
   "metadata": {},
   "source": [
    "## Removing a Property\n",
    "You can remove an existing property by passing NULL as value to it."
   ]
  },
  {
   "cell_type": "code",
   "execution_count": 15,
   "id": "6498e3c0-a634-4eb6-8f2d-bb8017bcce8c",
   "metadata": {},
   "outputs": [
    {
     "name": "stdout",
     "output_type": "stream",
     "text": [
      "[{'n1': {'name': 'Emil', 'POB': 'UK', 'from': 'USA'}}]\n"
     ]
    }
   ],
   "source": [
    "q1 = 'MATCH (n1:Person{name: \"Emil\"}) \\\n",
    "SET n1.age = NULL \\\n",
    "RETURN n1'\n",
    "\n",
    "session.run(q1)\n",
    "\n",
    "q1 = 'MATCH (n1:Person) WHERE n1.name = \"Emil\" RETURN n1;'\n",
    "\n",
    "values = [record.data() for record in session.run(q1)]\n",
    "print(values)"
   ]
  },
  {
   "cell_type": "markdown",
   "id": "ee4a44fd-8672-415c-924c-c1fb5e9d02c1",
   "metadata": {},
   "source": [
    "## Deleting All Nodes and Relationships\n",
    "Following is the query to delete all the nodes and the relationships in the database using the DELETE clause."
   ]
  },
  {
   "cell_type": "code",
   "execution_count": 16,
   "id": "f6925dec-f5a5-458f-9caf-27dca2634eb0",
   "metadata": {},
   "outputs": [],
   "source": [
    "q1 = 'MATCH (n1) DETACH DELETE n1'\n",
    "\n",
    "# session.run(q1)"
   ]
  },
  {
   "cell_type": "markdown",
   "id": "ee8b771f-1066-4c9c-b9c7-0fa56b1cb6e9",
   "metadata": {},
   "source": [
    "## Deleting a Particular Node\n",
    "To delete a particular node, you need to specify the details of the node in the place of “n” in the above query."
   ]
  },
  {
   "cell_type": "code",
   "execution_count": 17,
   "id": "efb8bdab-4d60-41d8-b0ab-5421b9d446bb",
   "metadata": {},
   "outputs": [
    {
     "name": "stdout",
     "output_type": "stream",
     "text": [
      "[]\n"
     ]
    }
   ],
   "source": [
    "q1 = 'MATCH (ee:Person) WHERE ee.name = \"Emil\" DETACH DELETE ee;'\n",
    "session.run(q1)\n",
    "\n",
    "q1 = 'MATCH (ee:Person) WHERE ee.name = \"Emil\" RETURN ee;'\n",
    "\n",
    "values = [record.data() for record in session.run(q1)]\n",
    "print(values)"
   ]
  },
  {
   "cell_type": "markdown",
   "id": "4039a2cd-b1bd-420f-b10c-526955553be4",
   "metadata": {},
   "source": [
    "## Remove Clause\n",
    "The REMOVE clause is used to remove properties and labels from graph elements (Nodes or Relationships)."
   ]
  },
  {
   "cell_type": "code",
   "execution_count": 18,
   "id": "c1c3f43a-ea79-41a4-b596-da1216cff5df",
   "metadata": {},
   "outputs": [
    {
     "name": "stdout",
     "output_type": "stream",
     "text": [
      "[{'n1': {'name': 'Johan', 'from': 'Sweden', 'learn': 'surfing'}}]\n",
      "[{'n1': {'name': 'Johan', 'from': 'Sweden'}}]\n"
     ]
    }
   ],
   "source": [
    "q1 = 'MATCH (n1:Person) WHERE n1.name = \"Johan\" RETURN n1;'\n",
    "\n",
    "values = [record.data() for record in session.run(q1)]\n",
    "print(values)\n",
    "\n",
    "q1 = 'MATCH (n1:Person{name: \"Johan\" }) \\\n",
    "REMOVE n1.learn \\\n",
    "RETURN n1'\n",
    "\n",
    "session.run(q1)\n",
    "\n",
    "q1 = 'MATCH (n1:Person) WHERE n1.name = \"Johan\" RETURN n1;'\n",
    "\n",
    "values = [record.data() for record in session.run(q1)]\n",
    "print(values)"
   ]
  },
  {
   "cell_type": "code",
   "execution_count": 19,
   "id": "6a8f5eff-93ed-4239-aaaa-824a59ca4fc4",
   "metadata": {},
   "outputs": [
    {
     "name": "stdout",
     "output_type": "stream",
     "text": [
      "[<Record n1=<Node id=1 labels=frozenset({'Person'}) properties={'name': 'Johan', 'from': 'Sweden'}>>]\n",
      "[<Record n1=<Node id=1 labels=frozenset() properties={'name': 'Johan', 'from': 'Sweden'}>>]\n"
     ]
    }
   ],
   "source": [
    "q1 = 'MATCH (n1:Person) WHERE n1.name = \"Johan\" RETURN n1;'\n",
    "\n",
    "values = [record for record in session.run(q1)]\n",
    "print(values)\n",
    "\n",
    "q1 = 'MATCH (n1:Person{name: \"Johan\" }) \\\n",
    "REMOVE n1:Person \\\n",
    "RETURN n1'\n",
    "\n",
    "session.run(q1)\n",
    "\n",
    "q1 = 'MATCH (n1) WHERE n1.name = \"Johan\" RETURN n1;'\n",
    "\n",
    "values = [record for record in session.run(q1)]\n",
    "print(values)"
   ]
  },
  {
   "cell_type": "markdown",
   "id": "00901820-fb0e-423b-ae26-5322b00f7bd4",
   "metadata": {},
   "source": [
    "# Count Function\n",
    "The count() function is used to count the number of rows."
   ]
  },
  {
   "cell_type": "code",
   "execution_count": 20,
   "id": "58bfab79-9375-42f8-a306-b14584ac3f9c",
   "metadata": {},
   "outputs": [
    {
     "name": "stdout",
     "output_type": "stream",
     "text": [
      "[{'count(n)': 3}]\n"
     ]
    }
   ],
   "source": [
    "q1 = 'Match (n:Person) \\\n",
    "RETURN count(n)'\n",
    "\n",
    "values = [record.data() for record in session.run(q1)]\n",
    "print(values)"
   ]
  },
  {
   "cell_type": "code",
   "execution_count": 21,
   "id": "eb14751a-a3b3-4939-918c-204ce8a6e7e8",
   "metadata": {},
   "outputs": [
    {
     "name": "stdout",
     "output_type": "stream",
     "text": [
      "[{'count( distinct x)': 2}]\n"
     ]
    }
   ],
   "source": [
    "q1 = 'Match (n:Person{name : \"Ian\"}) -[:KNOWS] ->(x) \\\n",
    "RETURN count( distinct x)'\n",
    "\n",
    "values = [record.data() for record in session.run(q1)]\n",
    "print(values)"
   ]
  },
  {
   "cell_type": "code",
   "execution_count": 22,
   "id": "c4f0ff90-0648-47a0-a432-c94587c1ee8a",
   "metadata": {},
   "outputs": [
    {
     "name": "stdout",
     "output_type": "stream",
     "text": [
      "[{'type(r)': 'KNOWS', 'count(x)': 2}]\n"
     ]
    }
   ],
   "source": [
    "q1 = 'Match (n:Person{name : \"Ian\"}) -[r] ->(x) \\\n",
    "RETURN type(r), count(x)'\n",
    "\n",
    "values = [record.data() for record in session.run(q1)]\n",
    "print(values)"
   ]
  },
  {
   "cell_type": "code",
   "execution_count": 23,
   "id": "b7cf6f04-53ba-4e5b-8fad-fc0905714dfe",
   "metadata": {},
   "outputs": [
    {
     "name": "stdout",
     "output_type": "stream",
     "text": [
      "[{'type(r)': 'KNOWS', 'labels(x)': ['Person'], 'count(x)': 1}, {'type(r)': 'KNOWS', 'labels(x)': [], 'count(x)': 1}]\n"
     ]
    }
   ],
   "source": [
    "q1 = 'Match (n:Person{name : \"Ian\"}) -[r] ->(x) \\\n",
    "RETURN type(r), labels(x), count(x)'\n",
    "\n",
    "values = [record.data() for record in session.run(q1)]\n",
    "print(values)"
   ]
  },
  {
   "cell_type": "markdown",
   "id": "b88b41bd-e2b4-48e6-a6e8-95f0e1e72138",
   "metadata": {},
   "source": [
    "### Count used to group"
   ]
  },
  {
   "cell_type": "code",
   "execution_count": 24,
   "id": "acfaa38f-8316-4362-b79c-527e86b35272",
   "metadata": {},
   "outputs": [
    {
     "name": "stdout",
     "output_type": "stream",
     "text": [
      "{'n.labels': None, 'count(n)': 3}\n"
     ]
    }
   ],
   "source": [
    "q1 = 'Match (n:Person) \\\n",
    "RETURN n.labels, count(n)'\n",
    "\n",
    "values = [record.data() for record in session.run(q1)]\n",
    "for  value in values:\n",
    "    print(value)"
   ]
  },
  {
   "cell_type": "markdown",
   "id": "9c3979d8-b908-4325-a83c-dfd0a091469a",
   "metadata": {},
   "source": [
    "# Order By Clause\n",
    "arrange the result data in order using the ORDER BY clause"
   ]
  },
  {
   "cell_type": "code",
   "execution_count": 25,
   "id": "b1653ee3-e8c5-4ae3-8b39-60f061f5950e",
   "metadata": {},
   "outputs": [
    {
     "name": "stdout",
     "output_type": "stream",
     "text": [
      "{'n': {'name': 'Allison', 'from': 'California', 'hobby': 'surfing'}}\n",
      "{'n': {'name': 'Ian', 'from': 'England', 'title': 'author'}}\n",
      "{'n': {'name': 'Rik', 'from': 'Belgium', 'pet': 'Orval'}}\n"
     ]
    }
   ],
   "source": [
    "q1 = 'Match (n:Person) \\\n",
    "RETURN n order by n.name'\n",
    "\n",
    "values = [record.data() for record in session.run(q1)]\n",
    "for  value in values:\n",
    "    print(value)"
   ]
  },
  {
   "cell_type": "code",
   "execution_count": 26,
   "id": "5f6593e5-bed4-47b3-98c9-0327029b397a",
   "metadata": {},
   "outputs": [
    {
     "name": "stdout",
     "output_type": "stream",
     "text": [
      "{'n': {'name': 'Virat Kohli', 'country': 'India', 'YOB': 1988, 'runs': 176}}\n",
      "{'n': {'name': 'Rohit Sharma', 'country': 'India', 'YOB': 1987, 'runs': 177}}\n",
      "{'n': {'name': 'Kumar Sangakkara', 'country': 'Srilanka', 'YOB': 1977, 'runs': 222}}\n",
      "{'n': {'name': 'Jonathan Trott', 'country': 'South Africa', 'YOB': 1981, 'runs': 229}}\n",
      "{'n': {'name': 'shikar Dhawan', 'country': 'India', 'YOB': 1985, 'runs': 363}}\n"
     ]
    }
   ],
   "source": [
    "q1 = 'create constraint on (p:player) assert p.name is unique;'\n",
    "session.run(q1)\n",
    "\n",
    "q1 = 'CREATE(Dhawan:player{name:\"shikar Dhawan\", YOB: 1985, runs:363, country: \"India\"}) \\\n",
    "CREATE(Jonathan:player{name:\"Jonathan Trott\", YOB:1981, runs:229, country:\"South Africa\"}) \\\n",
    "CREATE(Sangakkara:player{name:\"Kumar Sangakkara\", YOB:1977, runs:222, country:\"Srilanka\"}) \\\n",
    "CREATE(Rohit:player{name:\"Rohit Sharma\", YOB: 1987, runs:177, country:\"India\"}) \\\n",
    "CREATE(Virat:player{name:\"Virat Kohli\", YOB: 1988, runs:176, country:\"India\"})'\n",
    "session.run(q1)\n",
    "\n",
    "q1 = 'Match (n:player) \\\n",
    "RETURN n order by n.runs'\n",
    "\n",
    "values = [record.data() for record in session.run(q1)]\n",
    "for  value in values:\n",
    "    print(value)"
   ]
  },
  {
   "cell_type": "code",
   "execution_count": 27,
   "id": "a2aa6433-6d3d-4625-a19b-1841e7002091",
   "metadata": {},
   "outputs": [
    {
     "name": "stdout",
     "output_type": "stream",
     "text": [
      "{'n': {'name': 'shikar Dhawan', 'country': 'India', 'YOB': 1985, 'runs': 363}}\n",
      "{'n': {'name': 'Jonathan Trott', 'country': 'South Africa', 'YOB': 1981, 'runs': 229}}\n",
      "{'n': {'name': 'Kumar Sangakkara', 'country': 'Srilanka', 'YOB': 1977, 'runs': 222}}\n",
      "{'n': {'name': 'Rohit Sharma', 'country': 'India', 'YOB': 1987, 'runs': 177}}\n",
      "{'n': {'name': 'Virat Kohli', 'country': 'India', 'YOB': 1988, 'runs': 176}}\n"
     ]
    }
   ],
   "source": [
    "q1 = 'Match (n:player) \\\n",
    "RETURN n order by n.runs desc'\n",
    "\n",
    "values = [record.data() for record in session.run(q1)]\n",
    "for  value in values:\n",
    "    print(value)"
   ]
  },
  {
   "cell_type": "code",
   "execution_count": 28,
   "id": "00c08b15-46e9-47f7-80c6-c67f63571131",
   "metadata": {},
   "outputs": [
    {
     "name": "stdout",
     "output_type": "stream",
     "text": [
      "{'n': {'name': 'Kumar Sangakkara', 'country': 'Srilanka', 'YOB': 1977, 'runs': 222}}\n",
      "{'n': {'name': 'Jonathan Trott', 'country': 'South Africa', 'YOB': 1981, 'runs': 229}}\n",
      "{'n': {'name': 'shikar Dhawan', 'country': 'India', 'YOB': 1985, 'runs': 363}}\n",
      "{'n': {'name': 'Rohit Sharma', 'country': 'India', 'YOB': 1987, 'runs': 177}}\n",
      "{'n': {'name': 'Virat Kohli', 'country': 'India', 'YOB': 1988, 'runs': 176}}\n"
     ]
    }
   ],
   "source": [
    "q1 = 'Match (n:player) \\\n",
    "RETURN n order by n.YOB, n.runs'\n",
    "\n",
    "values = [record.data() for record in session.run(q1)]\n",
    "for  value in values:\n",
    "    print(value)"
   ]
  },
  {
   "cell_type": "markdown",
   "id": "bece58d1-245c-4457-84be-2fac3b4a3f23",
   "metadata": {},
   "source": [
    "# Limit Clause\n",
    "The limit clause is used to limit the number of rows in the output."
   ]
  },
  {
   "cell_type": "code",
   "execution_count": 29,
   "id": "bc702203-513d-422a-9f73-81cce4b98c79",
   "metadata": {},
   "outputs": [
    {
     "name": "stdout",
     "output_type": "stream",
     "text": [
      "{'n': {'name': 'Kumar Sangakkara', 'country': 'Srilanka', 'YOB': 1977, 'runs': 222}}\n",
      "{'n': {'name': 'Jonathan Trott', 'country': 'South Africa', 'YOB': 1981, 'runs': 229}}\n",
      "{'n': {'name': 'shikar Dhawan', 'country': 'India', 'YOB': 1985, 'runs': 363}}\n"
     ]
    }
   ],
   "source": [
    "q1 = 'Match (n:player) \\\n",
    "RETURN n order by n.YOB, n.runs limit 3'\n",
    "\n",
    "values = [record.data() for record in session.run(q1)]\n",
    "for  value in values:\n",
    "    print(value)"
   ]
  },
  {
   "cell_type": "code",
   "execution_count": 30,
   "id": "6d5a59e2-1618-4c54-a44d-b864fa7b3fa6",
   "metadata": {},
   "outputs": [
    {
     "name": "stdout",
     "output_type": "stream",
     "text": [
      "{'collect(n.name)': ['shikar Dhawan', 'Jonathan Trott', 'Kumar Sangakkara']}\n"
     ]
    }
   ],
   "source": [
    "q1 = 'Match (n:player) \\\n",
    "     with n \\\n",
    "     order by n.runs desc limit 3 \\\n",
    "     RETURN collect(n.name) '\n",
    "\n",
    "values = [record.data() for record in session.run(q1)]\n",
    "for  value in values:\n",
    "    print(value)"
   ]
  },
  {
   "cell_type": "code",
   "execution_count": null,
   "id": "02eec263-0ca8-4b0f-a9d6-840c6bf03551",
   "metadata": {},
   "outputs": [],
   "source": []
  }
 ],
 "metadata": {
  "kernelspec": {
   "display_name": "Python 3",
   "language": "python",
   "name": "python3"
  },
  "language_info": {
   "codemirror_mode": {
    "name": "ipython",
    "version": 3
   },
   "file_extension": ".py",
   "mimetype": "text/x-python",
   "name": "python",
   "nbconvert_exporter": "python",
   "pygments_lexer": "ipython3",
   "version": "3.9.5"
  }
 },
 "nbformat": 4,
 "nbformat_minor": 5
}
